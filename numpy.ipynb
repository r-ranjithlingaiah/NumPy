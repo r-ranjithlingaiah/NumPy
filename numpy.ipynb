{
  "nbformat": 4,
  "nbformat_minor": 0,
  "metadata": {
    "colab": {
      "provenance": [],
      "include_colab_link": true
    },
    "kernelspec": {
      "name": "python3",
      "display_name": "Python 3"
    },
    "language_info": {
      "name": "python"
    }
  },
  "cells": [
    {
      "cell_type": "markdown",
      "metadata": {
        "id": "view-in-github",
        "colab_type": "text"
      },
      "source": [
        "<a href=\"https://colab.research.google.com/github/r-ranjithlingaiah/NumPy/blob/main/numpy.ipynb\" target=\"_parent\"><img src=\"https://colab.research.google.com/assets/colab-badge.svg\" alt=\"Open In Colab\"/></a>"
      ]
    },
    {
      "cell_type": "markdown",
      "source": [
        "#Numpy"
      ],
      "metadata": {
        "id": "Y72Qr-NFjJvV"
      }
    },
    {
      "cell_type": "code",
      "execution_count": null,
      "metadata": {
        "id": "yopEtOYvi9W5"
      },
      "outputs": [],
      "source": [
        "#what is numpy?\n",
        "#it is an \"core library for scientific comupting in python\"(numerical operation)\n",
        "#the central object in the numpy libraray is \"Numpy Array\"\n",
        "#what is an numpy arrey?\n",
        "#is a high performance multidemensional object. which is used for numerical operations\n"
      ]
    },
    {
      "cell_type": "code",
      "source": [
        "#Types of array\n",
        "#1D dimensional arrays\n",
        "#2D\n",
        "#3D"
      ],
      "metadata": {
        "id": "QBpz7pRmmF97"
      },
      "execution_count": null,
      "outputs": []
    },
    {
      "cell_type": "code",
      "source": [
        "#Scikit learn----->machinelearnig\n",
        "#matplotlib--->DV\n",
        "#pandas--->data manpulation"
      ],
      "metadata": {
        "id": "blTJlnpinewQ"
      },
      "execution_count": null,
      "outputs": []
    },
    {
      "cell_type": "code",
      "source": [
        "#installation of numpy\n",
        "!pip install numpy"
      ],
      "metadata": {
        "colab": {
          "base_uri": "https://localhost:8080/"
        },
        "id": "K8Nicyaon29A",
        "outputId": "4b8dd65e-317c-43bc-a128-63c25fcbea67"
      },
      "execution_count": null,
      "outputs": [
        {
          "output_type": "stream",
          "name": "stdout",
          "text": [
            "Requirement already satisfied: numpy in /usr/local/lib/python3.10/dist-packages (1.25.2)\n"
          ]
        }
      ]
    },
    {
      "cell_type": "code",
      "source": [
        "#import numpy\n",
        "import numpy as np"
      ],
      "metadata": {
        "id": "mpGZfLb6oTqx"
      },
      "execution_count": null,
      "outputs": []
    },
    {
      "cell_type": "code",
      "source": [
        "#check version of the numpy\n",
        "np.__version__"
      ],
      "metadata": {
        "colab": {
          "base_uri": "https://localhost:8080/",
          "height": 35
        },
        "id": "Iw8IJZp5oi1N",
        "outputId": "c63936dc-a345-434c-c849-6a0557fab459"
      },
      "execution_count": null,
      "outputs": [
        {
          "output_type": "execute_result",
          "data": {
            "text/plain": [
              "'1.25.2'"
            ],
            "application/vnd.google.colaboratory.intrinsic+json": {
              "type": "string"
            }
          },
          "metadata": {},
          "execution_count": 3
        }
      ]
    },
    {
      "cell_type": "code",
      "source": [
        "#central object of numpy is the array\n",
        "\n",
        "a = np.array([1,2,3,4,5,6])\n",
        "print(a)\n",
        "#shape of the array #(6,)--->(rowvalue, columnvalue)--->\n",
        "a.shape\n",
        "#to know the type of elements in a numpy array# dtype int64 -->np.dtype\n",
        "a.dtype\n",
        "#number of dimensions of an array --->np.ndim\n",
        "a.ndim\n",
        "#i want to know the size of an aaray (total number of elements)\n",
        "a.size\n",
        "#i want to know the size in bytes of each element\n",
        "a.itemsize"
      ],
      "metadata": {
        "colab": {
          "base_uri": "https://localhost:8080/"
        },
        "id": "apx42BVXpEvv",
        "outputId": "8cba3fe0-3f51-4632-864c-5830cc069a57"
      },
      "execution_count": null,
      "outputs": [
        {
          "output_type": "stream",
          "name": "stdout",
          "text": [
            "[1 2 3 4 5 6]\n"
          ]
        },
        {
          "output_type": "execute_result",
          "data": {
            "text/plain": [
              "8"
            ]
          },
          "metadata": {},
          "execution_count": 14
        }
      ]
    },
    {
      "cell_type": "code",
      "source": [
        "#create an 2 dimensional array\n",
        "b = np.array([(1,2,3,4),(5,6,7,8)])\n",
        "c = np.array([[1,2,3,4],[5,6,7,8]])\n",
        "print(c)\n",
        "print(type(c))\n",
        "#apply numyp methods to read an 2d array\n"
      ],
      "metadata": {
        "colab": {
          "base_uri": "https://localhost:8080/"
        },
        "id": "Seq3p6k4s9b0",
        "outputId": "6415ed39-1a87-4a82-aefb-c78307fd1e43"
      },
      "execution_count": null,
      "outputs": [
        {
          "output_type": "stream",
          "name": "stdout",
          "text": [
            "[[1 2 3 4]\n",
            " [5 6 7 8]]\n",
            "<class 'numpy.ndarray'>\n"
          ]
        }
      ]
    },
    {
      "cell_type": "code",
      "source": [
        "#create 3d array\n",
        "d = np.array([[[1,2,3],[4,5,6]]])\n",
        "print(d)\n",
        "print(type(d))\n",
        "print(d.ndim)\n",
        "#apply numyp methods to read an 2d array\n"
      ],
      "metadata": {
        "colab": {
          "base_uri": "https://localhost:8080/"
        },
        "id": "oAcYHRWtyAMN",
        "outputId": "ffeba022-97d7-486c-f87c-08993c780abe"
      },
      "execution_count": null,
      "outputs": [
        {
          "output_type": "stream",
          "name": "stdout",
          "text": [
            "[[[1 2 3]\n",
            "  [4 5 6]]]\n",
            "<class 'numpy.ndarray'>\n",
            "3\n"
          ]
        }
      ]
    },
    {
      "cell_type": "markdown",
      "source": [
        "#essential method (slicing)"
      ],
      "metadata": {
        "id": "C8Q7JyF8zWUm"
      }
    },
    {
      "cell_type": "code",
      "source": [
        "a = np.array([1,2,3,4,5,6])\n",
        "#access and chnage elements\n",
        "print(a[0])\n",
        "#change the element at particulat index\n",
        "a[0:4] = 9,8,6,2\n",
        "print(a)"
      ],
      "metadata": {
        "colab": {
          "base_uri": "https://localhost:8080/"
        },
        "id": "El_DaXxky4gj",
        "outputId": "a7629491-4bb3-4568-c12f-8291c18ff16c"
      },
      "execution_count": null,
      "outputs": [
        {
          "output_type": "stream",
          "name": "stdout",
          "text": [
            "1\n",
            "[9 8 6 2 5 6]\n"
          ]
        }
      ]
    },
    {
      "cell_type": "code",
      "source": [
        "#element wise math operations\n",
        "b = a*np.array([1,2,3,4,5,6])\n",
        "print(b)\n",
        "#task is to apply all arthamatic operations\n",
        "print(b.sum())"
      ],
      "metadata": {
        "colab": {
          "base_uri": "https://localhost:8080/"
        },
        "id": "k1-5uVVL1VEC",
        "outputId": "f3229baf-9d0f-4ade-a405-26a2cc3876eb"
      },
      "execution_count": null,
      "outputs": [
        {
          "output_type": "stream",
          "name": "stdout",
          "text": [
            "[1 2 3 4 5 6]\n",
            "21\n"
          ]
        }
      ]
    },
    {
      "cell_type": "markdown",
      "source": [
        "#diff b/w list and array"
      ],
      "metadata": {
        "id": "TBHpRw6e2VqC"
      }
    },
    {
      "cell_type": "code",
      "source": [
        "l = [1,2,3]\n",
        "print(type(l))\n",
        "arr = np.array([1,2,3])\n",
        "print(type(arr))\n",
        "\n",
        "#adding new item to the list\n",
        "l.append(4)\n",
        "print(l)\n",
        "#adding element in array is not able to done because it has fixed memory\n",
        "# arr.append(4)\n",
        "#There are ways to add items in array , but this essentialy create new array\n",
        "# l2 = l + [5]\n",
        "# print(l2)\n",
        "\n",
        "\n",
        "a2 = arr + np.array([4])\n",
        "print(a2)"
      ],
      "metadata": {
        "colab": {
          "base_uri": "https://localhost:8080/"
        },
        "id": "eJjPohkE2PVm",
        "outputId": "3bdee479-2bb7-44af-c5c2-369bc68a3726"
      },
      "execution_count": null,
      "outputs": [
        {
          "output_type": "stream",
          "name": "stdout",
          "text": [
            "<class 'list'>\n",
            "<class 'numpy.ndarray'>\n",
            "[1, 2, 3, 4]\n",
            "[5 6 7]\n"
          ]
        }
      ]
    },
    {
      "cell_type": "code",
      "source": [
        "a3 = np.array([4,5,6])\n",
        "a4 = a3 + np.array([4])\n",
        "print(a4)\n",
        "#broadcasting method-->single element by default add to each elect from the refrerral array\n"
      ],
      "metadata": {
        "colab": {
          "base_uri": "https://localhost:8080/"
        },
        "id": "fD1wjqgT5Jr7",
        "outputId": "d515f6a9-32e0-46ab-83ab-9377e3af6228"
      },
      "execution_count": null,
      "outputs": [
        {
          "output_type": "stream",
          "name": "stdout",
          "text": [
            "[ 8  9 10]\n"
          ]
        }
      ]
    },
    {
      "cell_type": "code",
      "source": [
        "#vector ddition:-->when your adding two arrays the array's must have same number of elements/shape\n",
        "a3 = np.array([4,5,6])\n",
        "a4 = a3 + np.array([7,8,9])\n",
        "print(a4)"
      ],
      "metadata": {
        "colab": {
          "base_uri": "https://localhost:8080/"
        },
        "id": "vR4IQRVy5tUd",
        "outputId": "6419eaf4-b1b3-47e9-aa02-ae804541c1ed"
      },
      "execution_count": null,
      "outputs": [
        {
          "output_type": "stream",
          "name": "stdout",
          "text": [
            "[11 13 15]\n"
          ]
        }
      ]
    },
    {
      "cell_type": "code",
      "source": [
        "#Heterogenous data:--->a collection of data which is having multiple data tpes\n",
        "a = [1,2,3,4,5,6,\"dog\",\"apple\"]\n",
        "print(type(a))\n",
        "\n",
        "\n",
        "arr= np.array(a)\n",
        "print(type(arr))\n",
        "print(arr)\n",
        "arr.dtype"
      ],
      "metadata": {
        "colab": {
          "base_uri": "https://localhost:8080/"
        },
        "id": "jlzZv5xs7YFV",
        "outputId": "8ac7714d-7200-4bd7-98a3-8a089c35897e"
      },
      "execution_count": null,
      "outputs": [
        {
          "output_type": "stream",
          "name": "stdout",
          "text": [
            "<class 'list'>\n",
            "<class 'numpy.ndarray'>\n",
            "['1' '2' '3' '4' '5' '6' 'dog' 'apple']\n"
          ]
        },
        {
          "output_type": "execute_result",
          "data": {
            "text/plain": [
              "dtype('<U21')"
            ]
          },
          "metadata": {},
          "execution_count": 56
        }
      ]
    },
    {
      "cell_type": "code",
      "source": [
        "#homohenous data---> a collection having same data type\n",
        "a = [1,2,3,4]\n",
        "arr1 = np.array(a)\n",
        "arr1.dtype\n"
      ],
      "metadata": {
        "colab": {
          "base_uri": "https://localhost:8080/"
        },
        "id": "OS4Ep9988Fe5",
        "outputId": "c73a6113-9480-459c-a9e7-db09e9ca5fc6"
      },
      "execution_count": null,
      "outputs": [
        {
          "output_type": "execute_result",
          "data": {
            "text/plain": [
              "dtype('int64')"
            ]
          },
          "metadata": {},
          "execution_count": 57
        }
      ]
    },
    {
      "cell_type": "code",
      "source": [
        "s = ['apple','bannana','kiwi']\n",
        "arr2 = np.array(s)\n",
        "arr2.dtype"
      ],
      "metadata": {
        "colab": {
          "base_uri": "https://localhost:8080/"
        },
        "id": "RBqTpllQ8-MO",
        "outputId": "2d88ca8f-8dc2-4918-b41d-d039847bc498"
      },
      "execution_count": null,
      "outputs": [
        {
          "output_type": "execute_result",
          "data": {
            "text/plain": [
              "dtype('<U7')"
            ]
          },
          "metadata": {},
          "execution_count": 58
        }
      ]
    },
    {
      "cell_type": "markdown",
      "source": [
        "#Dot Product"
      ],
      "metadata": {
        "id": "DpoeIL_UH6Nu"
      }
    },
    {
      "cell_type": "code",
      "source": [
        "a = np.array([1,2,5])\n",
        "b = np.array([3,4,6])\n",
        "#sum of products of corresponding entries\n",
        "# multiply each corresponding element and then take the sum\n",
        "\n",
        "dot = 0\n",
        "for i in range(len(b)):\n",
        "  dot += a[i] * b[i]\n",
        "print(dot)\n",
        "\n",
        "#easy method\n",
        "dot = np.dot(a,b)\n",
        "print(dot)\n",
        "\n",
        "#step by step manually\n",
        "c = a*b\n",
        "print(c)\n",
        "d = np.sum(c)\n",
        "print(d)\n",
        "\n",
        "\n",
        "dot = a.dot(b)\n",
        "print(dot)\n",
        "\n",
        "\n"
      ],
      "metadata": {
        "colab": {
          "base_uri": "https://localhost:8080/"
        },
        "id": "b8WAlQrII5_3",
        "outputId": "99860486-3295-4bca-9bb5-0d8c02493c04"
      },
      "execution_count": null,
      "outputs": [
        {
          "output_type": "stream",
          "name": "stdout",
          "text": [
            "41\n",
            "41\n",
            "[ 3  8 30]\n",
            "41\n",
            "41\n",
            "[13 26 65]\n"
          ]
        }
      ]
    },
    {
      "cell_type": "code",
      "source": [
        "dot = a @ b\n",
        "print(dot)"
      ],
      "metadata": {
        "colab": {
          "base_uri": "https://localhost:8080/"
        },
        "id": "dk5xUNhYLt3C",
        "outputId": "5c8f6e92-8d0a-40ab-aaad-a2e8e5f5d9f6"
      },
      "execution_count": null,
      "outputs": [
        {
          "output_type": "stream",
          "name": "stdout",
          "text": [
            "41\n"
          ]
        }
      ]
    },
    {
      "cell_type": "code",
      "source": [
        "dot = (a*b).sum()\n",
        "print(dot)"
      ],
      "metadata": {
        "colab": {
          "base_uri": "https://localhost:8080/"
        },
        "id": "GduXxsK1J5U9",
        "outputId": "91ad68f4-8f6c-494c-bb9e-d30c1e46a720"
      },
      "execution_count": null,
      "outputs": [
        {
          "output_type": "stream",
          "name": "stdout",
          "text": [
            "41\n"
          ]
        }
      ]
    },
    {
      "cell_type": "code",
      "source": [
        "d = np.array([[[1,2,3],[4,5,6],[7,8,9]]])\n",
        "e = np.array([[[1,2,3],[4,5,6],[7,8,9]]])\n",
        "dot = np.dot(d,e)\n",
        "print(dot)\n"
      ],
      "metadata": {
        "colab": {
          "base_uri": "https://localhost:8080/"
        },
        "id": "HjF5uH_2PrKt",
        "outputId": "491a5b1c-a841-46d8-c6f2-0632247a4932"
      },
      "execution_count": null,
      "outputs": [
        {
          "output_type": "stream",
          "name": "stdout",
          "text": [
            "[[[[ 30  36  42]]\n",
            "\n",
            "  [[ 66  81  96]]\n",
            "\n",
            "  [[102 126 150]]]]\n"
          ]
        }
      ]
    },
    {
      "cell_type": "markdown",
      "source": [
        "speed test"
      ],
      "metadata": {
        "id": "TPiXeRz7Su3z"
      }
    },
    {
      "cell_type": "code",
      "source": [
        "from timeit import default_timer as timer\n",
        "a = np.random.randn(1000)\n",
        "b = np.random.randn(1000)\n",
        "\n",
        "A = list(a)\n",
        "B = list(b)\n",
        "\n",
        "T = 1000\n",
        "\n",
        "def dot1():\n",
        "  dot = 0\n",
        "  for i in range(len(A)):\n",
        "    dot += A[i]*B[i]\n",
        "  return dot\n",
        "def dot2():\n",
        "  return np.dot(a,b)\n",
        "start = timer()\n",
        "for t in range(T):\n",
        "  dot1()\n",
        "end = timer()\n",
        "t1 = end - start\n",
        "\n",
        "start = timer()\n",
        "for t in range(T):\n",
        "  dot2()\n",
        "end = timer()\n",
        "t2 = end-start\n",
        "\n",
        "print('time with list:', t1)\n",
        "print('time with array:', t2)\n",
        "print('ratio',t1/t2)\n",
        "\n",
        "\n"
      ],
      "metadata": {
        "colab": {
          "base_uri": "https://localhost:8080/"
        },
        "id": "ZSiM0RocRl2_",
        "outputId": "f7fb0908-846c-43d3-848c-05570ade14e2"
      },
      "execution_count": null,
      "outputs": [
        {
          "output_type": "stream",
          "name": "stdout",
          "text": [
            "time with list: 0.21689651500037144\n",
            "time with array: 0.0014571649999197689\n",
            "ratio 148.84828760800164\n"
          ]
        }
      ]
    },
    {
      "cell_type": "code",
      "source": [
        "s = np.random.randn(11)\n",
        "print(s)"
      ],
      "metadata": {
        "colab": {
          "base_uri": "https://localhost:8080/"
        },
        "id": "Qj40xEJIVyzr",
        "outputId": "477f03ab-7512-4e8e-8824-f424182d71e6"
      },
      "execution_count": null,
      "outputs": [
        {
          "output_type": "stream",
          "name": "stdout",
          "text": [
            "[-2.24066769 -2.16561406  1.18439075  0.13675714 -0.49766002  1.12520941\n",
            "  1.11986245  2.2234713  -0.41747175  0.83547533 -0.95163268]\n"
          ]
        }
      ]
    },
    {
      "cell_type": "markdown",
      "source": [
        "#multidimesional array:\n"
      ],
      "metadata": {
        "id": "uElE6goMZMkB"
      }
    },
    {
      "cell_type": "code",
      "source": [
        "a = np.array([[1,2],[3,4]])\n",
        "# print(a.shape)\n",
        "# print(a)\n",
        "#access the elements\n",
        "#rows first, volumns\n",
        "# print(a[0])\n",
        "print(a[0][0])\n",
        "#or\n",
        "print(a[0,0])"
      ],
      "metadata": {
        "colab": {
          "base_uri": "https://localhost:8080/"
        },
        "id": "G1ZY4I-kW1AT",
        "outputId": "0cd64928-b956-4b52-aac5-7ae30352d022"
      },
      "execution_count": null,
      "outputs": [
        {
          "output_type": "stream",
          "name": "stdout",
          "text": [
            "1\n",
            "1\n"
          ]
        }
      ]
    },
    {
      "cell_type": "code",
      "source": [],
      "metadata": {
        "id": "1HtPDkEeanaa"
      },
      "execution_count": null,
      "outputs": []
    },
    {
      "cell_type": "code",
      "source": [
        "a = np.array([[1,2],[3,4]])\n",
        "\n",
        "print(a)"
      ],
      "metadata": {
        "colab": {
          "base_uri": "https://localhost:8080/"
        },
        "id": "e1N0touCaoju",
        "outputId": "b4fa9fe9-d346-4730-b943-879aaeb20091"
      },
      "execution_count": null,
      "outputs": [
        {
          "output_type": "stream",
          "name": "stdout",
          "text": [
            "[[1 2]\n",
            " [3 4]]\n"
          ]
        }
      ]
    },
    {
      "cell_type": "code",
      "source": [
        "#slicing\n",
        "print(a[1]) # index number will give particulat entire row"
      ],
      "metadata": {
        "colab": {
          "base_uri": "https://localhost:8080/"
        },
        "id": "1vzHq7tbabRH",
        "outputId": "4c7f65bf-75d4-4a51-c51a-f4e11db2ff83"
      },
      "execution_count": null,
      "outputs": [
        {
          "output_type": "stream",
          "name": "stdout",
          "text": [
            "[3 4]\n"
          ]
        }
      ]
    },
    {
      "cell_type": "code",
      "source": [
        "print(a[:,0]) #default index number will give particulat entire column\n",
        "#[row:,column value]"
      ],
      "metadata": {
        "colab": {
          "base_uri": "https://localhost:8080/"
        },
        "id": "Ts47hlZMbMuQ",
        "outputId": "90a2df85-e6ac-4962-bdc7-0de916346d1e"
      },
      "execution_count": null,
      "outputs": [
        {
          "output_type": "stream",
          "name": "stdout",
          "text": [
            "[1 3]\n"
          ]
        }
      ]
    },
    {
      "cell_type": "code",
      "source": [
        "print(a[:,1]) #default index number will give particulat entire column\n",
        "#[row:,column value]"
      ],
      "metadata": {
        "colab": {
          "base_uri": "https://localhost:8080/"
        },
        "id": "WjOlEZPibelF",
        "outputId": "1673c1d3-b812-464d-eaa6-b503b70d4b82"
      },
      "execution_count": null,
      "outputs": [
        {
          "output_type": "stream",
          "name": "stdout",
          "text": [
            "[2 4]\n"
          ]
        }
      ]
    },
    {
      "cell_type": "code",
      "source": [
        "d = np.array([[1,2,3],[4,5,6],[7,8,9]])\n",
        "print(d)"
      ],
      "metadata": {
        "colab": {
          "base_uri": "https://localhost:8080/"
        },
        "id": "xtooqFMjb8vL",
        "outputId": "2657dd6d-52b3-434c-c99f-2bb84c9f643e"
      },
      "execution_count": null,
      "outputs": [
        {
          "output_type": "stream",
          "name": "stdout",
          "text": [
            "[[1 2 3]\n",
            " [4 5 6]\n",
            " [7 8 9]]\n"
          ]
        }
      ]
    },
    {
      "cell_type": "code",
      "source": [
        "c=d[2,2]\n",
        "print(c)"
      ],
      "metadata": {
        "colab": {
          "base_uri": "https://localhost:8080/"
        },
        "id": "U1R0ly4edfHj",
        "outputId": "d25e6494-b984-47d4-b277-deedf761374e"
      },
      "execution_count": null,
      "outputs": [
        {
          "output_type": "stream",
          "name": "stdout",
          "text": [
            "9\n"
          ]
        }
      ]
    },
    {
      "cell_type": "code",
      "source": [
        "#print entire column\n",
        "print(d[:,2])"
      ],
      "metadata": {
        "colab": {
          "base_uri": "https://localhost:8080/"
        },
        "id": "ZGrxQ-7hdxzh",
        "outputId": "8e8814d4-e03a-4ebf-9f96-d461e0418a9d"
      },
      "execution_count": null,
      "outputs": [
        {
          "output_type": "stream",
          "name": "stdout",
          "text": [
            "[3 6 9]\n"
          ]
        }
      ]
    },
    {
      "cell_type": "code",
      "source": [
        "print(d[1,1])\n"
      ],
      "metadata": {
        "colab": {
          "base_uri": "https://localhost:8080/"
        },
        "id": "IaF7hrsrcGWK",
        "outputId": "e2f1ac20-8461-4d6d-ff75-ca3fa6327295"
      },
      "execution_count": null,
      "outputs": [
        {
          "output_type": "stream",
          "name": "stdout",
          "text": [
            "5\n"
          ]
        }
      ]
    },
    {
      "cell_type": "markdown",
      "source": [
        "#Boolean Indexing"
      ],
      "metadata": {
        "id": "JeB6U6yxekmd"
      }
    },
    {
      "cell_type": "code",
      "source": [
        "a = np.array([[1,2],[3,4],[5,6]])\n",
        "# print(a)\n",
        "#print the same data with true and false\n",
        "bool_idx = a > 2\n",
        "print(bool_idx)"
      ],
      "metadata": {
        "colab": {
          "base_uri": "https://localhost:8080/"
        },
        "id": "yeNUsaQnemmB",
        "outputId": "23cfa3a5-15ab-4b58-84a2-afd012e1e033"
      },
      "execution_count": null,
      "outputs": [
        {
          "output_type": "stream",
          "name": "stdout",
          "text": [
            "[[ True False]\n",
            " [False False]\n",
            " [False False]]\n"
          ]
        }
      ]
    },
    {
      "cell_type": "code",
      "source": [
        "#this will be a rank 1 array\n",
        "print(a[bool_idx])"
      ],
      "metadata": {
        "colab": {
          "base_uri": "https://localhost:8080/"
        },
        "id": "sEtLzDA7fSXV",
        "outputId": "4462766f-69d5-4096-a395-7d8b313cc7a3"
      },
      "execution_count": null,
      "outputs": [
        {
          "output_type": "stream",
          "name": "stdout",
          "text": [
            "[1]\n"
          ]
        }
      ]
    },
    {
      "cell_type": "code",
      "source": [
        "print(a)"
      ],
      "metadata": {
        "colab": {
          "base_uri": "https://localhost:8080/"
        },
        "id": "dOvh4wwVfr1K",
        "outputId": "3b6e0c9f-13ea-4b5f-f886-9082682e227c"
      },
      "execution_count": null,
      "outputs": [
        {
          "output_type": "stream",
          "name": "stdout",
          "text": [
            "[[1 2]\n",
            " [3 4]\n",
            " [5 6]]\n"
          ]
        }
      ]
    },
    {
      "cell_type": "code",
      "source": [
        "#np.where(): same size with modified values\n",
        "c = np.where(a>2, a, -1)     #\n",
        "print(c)"
      ],
      "metadata": {
        "colab": {
          "base_uri": "https://localhost:8080/"
        },
        "id": "B9buISKOgDl6",
        "outputId": "3716d137-c4c7-4fa6-d0f0-000d1538ae4e"
      },
      "execution_count": null,
      "outputs": [
        {
          "output_type": "stream",
          "name": "stdout",
          "text": [
            "[[-1 -1]\n",
            " [ 3  4]\n",
            " [ 5  6]]\n"
          ]
        }
      ]
    },
    {
      "cell_type": "code",
      "source": [
        "#fancay index:access multiple index at once\n",
        "a = np.array([10,2,3,4,5,6,7,8,9])\n",
        "b = a\n",
        "print(b)"
      ],
      "metadata": {
        "colab": {
          "base_uri": "https://localhost:8080/"
        },
        "id": "LCda_F_hhB5U",
        "outputId": "a6e26250-2850-49c5-98f8-469a4bf56a54"
      },
      "execution_count": null,
      "outputs": [
        {
          "output_type": "stream",
          "name": "stdout",
          "text": [
            "[6 2 3]\n"
          ]
        }
      ]
    },
    {
      "cell_type": "code",
      "source": [
        "#compute indices where condition is true\n",
        "import numpy as np\n",
        "even = np.argwhere(a%2 ==0).flatten()\n",
        "print(even)\n",
        "a_even = a[even]\n",
        "print(a_even)"
      ],
      "metadata": {
        "id": "G1WKXeWZh_zH",
        "colab": {
          "base_uri": "https://localhost:8080/"
        },
        "outputId": "ab1c3897-a894-4345-b296-017ad1f6a8ce"
      },
      "execution_count": null,
      "outputs": [
        {
          "output_type": "stream",
          "name": "stdout",
          "text": [
            "[0 1 3 5 7]\n",
            "[10  2  4  6  8]\n"
          ]
        }
      ]
    },
    {
      "cell_type": "markdown",
      "source": [
        "#reshaping of an array"
      ],
      "metadata": {
        "id": "zNYelZWNYmfD"
      }
    },
    {
      "cell_type": "code",
      "source": [
        "b = np.arange(1,7)\n",
        "print(b)\n",
        "print(b.shape)"
      ],
      "metadata": {
        "colab": {
          "base_uri": "https://localhost:8080/"
        },
        "id": "8qZNz9HaYkrF",
        "outputId": "14087eb3-8113-4462-8d1e-da250c1c0e17"
      },
      "execution_count": null,
      "outputs": [
        {
          "output_type": "stream",
          "name": "stdout",
          "text": [
            "[1 2 3 4 5 6]\n",
            "(6,)\n"
          ]
        }
      ]
    },
    {
      "cell_type": "code",
      "source": [
        "c = b.reshape((3,2))  #(1st value:row value, sencomdvalue is:column value)\n",
        "print(c)\n",
        "print(c.ndim)"
      ],
      "metadata": {
        "colab": {
          "base_uri": "https://localhost:8080/"
        },
        "id": "qlTB3Y36ZGax",
        "outputId": "19568091-0564-4aaf-a086-4d7189ae0fe6"
      },
      "execution_count": null,
      "outputs": [
        {
          "output_type": "stream",
          "name": "stdout",
          "text": [
            "[[1 2]\n",
            " [3 4]\n",
            " [5 6]]\n",
            "2\n"
          ]
        }
      ]
    },
    {
      "cell_type": "code",
      "source": [
        "#reshape above array in 2 rows and 3 columns\n",
        "d = c.reshape((2,3))\n",
        "print(d)\n",
        "print(d.ndim)"
      ],
      "metadata": {
        "colab": {
          "base_uri": "https://localhost:8080/"
        },
        "id": "8Q1yYTVXZmT5",
        "outputId": "7b4ecd43-10e9-4ddb-f168-1a516028a7f5"
      },
      "execution_count": null,
      "outputs": [
        {
          "output_type": "stream",
          "name": "stdout",
          "text": [
            "[[1 2 3]\n",
            " [4 5 6]]\n",
            "2\n"
          ]
        }
      ]
    },
    {
      "cell_type": "code",
      "source": [
        "#in  reshaping newaxis is used to create new axis in the data\n",
        "#needed when model require the data to be shaped in certin manner\n",
        "print(b.shape)"
      ],
      "metadata": {
        "colab": {
          "base_uri": "https://localhost:8080/"
        },
        "id": "hpTIa5N0aDl1",
        "outputId": "fecd3085-a7e3-48a0-8764-003e2774ccca"
      },
      "execution_count": null,
      "outputs": [
        {
          "output_type": "stream",
          "name": "stdout",
          "text": [
            "(6,)\n"
          ]
        }
      ]
    },
    {
      "cell_type": "code",
      "source": [
        "e = a[np.newaxis,:]\n",
        "print(e)\n",
        "print(e.shape)"
      ],
      "metadata": {
        "id": "EXehzGkha3N5"
      },
      "execution_count": null,
      "outputs": []
    },
    {
      "cell_type": "markdown",
      "source": [
        "#concatenation"
      ],
      "metadata": {
        "id": "dJDtD9kUcAFB"
      }
    },
    {
      "cell_type": "code",
      "source": [
        "s = np.array([[1,2],[3,4]])\n",
        "h = np.array([[5,6]])\n",
        "#combine above two arreys\n",
        "a = np.concatenate((s,h), axis=None)\n",
        "print(a)\n"
      ],
      "metadata": {
        "colab": {
          "base_uri": "https://localhost:8080/"
        },
        "id": "YJZWMeocb2Mi",
        "outputId": "72d35ef3-5221-4ec1-9db3-7c87a08b56ec"
      },
      "execution_count": null,
      "outputs": [
        {
          "output_type": "stream",
          "name": "stdout",
          "text": [
            "[1 2 3 4 5 6]\n"
          ]
        }
      ]
    },
    {
      "cell_type": "code",
      "source": [
        "b = np.concatenate((s,h), axis=0)\n",
        "print(b)\n"
      ],
      "metadata": {
        "colab": {
          "base_uri": "https://localhost:8080/"
        },
        "id": "_wcANicJc3nU",
        "outputId": "2b61a6e5-314d-40a6-b5cf-478b99c55ad8"
      },
      "execution_count": null,
      "outputs": [
        {
          "output_type": "stream",
          "name": "stdout",
          "text": [
            "[[1 2]\n",
            " [3 4]\n",
            " [5 6]]\n"
          ]
        }
      ]
    },
    {
      "cell_type": "code",
      "source": [
        "#add new column: note that we have to transpose b!\n",
        "e = np.concatenate((s.T,h),axis = 0)\n",
        "print(e)"
      ],
      "metadata": {
        "colab": {
          "base_uri": "https://localhost:8080/"
        },
        "id": "6ykyXRJOdNfd",
        "outputId": "4cfddd8d-0c41-4845-f4d7-fb9f63276840"
      },
      "execution_count": null,
      "outputs": [
        {
          "output_type": "stream",
          "name": "stdout",
          "text": [
            "[[1 3]\n",
            " [2 4]\n",
            " [5 6]]\n"
          ]
        }
      ]
    },
    {
      "cell_type": "code",
      "source": [
        "#hstack:stack arrays in sequence horizentally (colum wise).needs a tuple\n",
        "a = np.array([1,2,3,4])\n",
        "b = np.array([5,6,7,8])\n",
        "c = np.hstack((a,b))\n",
        "print(c)\n",
        "\n"
      ],
      "metadata": {
        "colab": {
          "base_uri": "https://localhost:8080/"
        },
        "id": "oN4RR1hJgKC7",
        "outputId": "3105e854-3a71-4ff8-e550-e339bd8d5578"
      },
      "execution_count": null,
      "outputs": [
        {
          "output_type": "stream",
          "name": "stdout",
          "text": [
            "[1 2 3 4 5 6 7 8]\n"
          ]
        }
      ]
    },
    {
      "cell_type": "code",
      "source": [
        "s = np.array([[1,2],[3,4]])\n",
        "h = np.array([[5,6],[7,8]])\n",
        "a = np.hstack((s,h))\n",
        "print(a)"
      ],
      "metadata": {
        "colab": {
          "base_uri": "https://localhost:8080/"
        },
        "id": "RcQbWbI4hfaC",
        "outputId": "d94c3070-2382-4442-de0c-5ae4e8132050"
      },
      "execution_count": null,
      "outputs": [
        {
          "output_type": "stream",
          "name": "stdout",
          "text": [
            "[[1 2 5 6]\n",
            " [3 4 7 8]]\n"
          ]
        }
      ]
    },
    {
      "cell_type": "code",
      "source": [
        "#vstack\n",
        "s = np.array([[1,2],[3,4]])\n",
        "h = np.array([[5,6],[7,8]])\n",
        "a = np.vstack((s,h))\n",
        "print(a)"
      ],
      "metadata": {
        "colab": {
          "base_uri": "https://localhost:8080/"
        },
        "id": "-gQYT1XJh0_u",
        "outputId": "139b16b7-e7f1-4875-86b2-3f31ade3b208"
      },
      "execution_count": null,
      "outputs": [
        {
          "output_type": "stream",
          "name": "stdout",
          "text": [
            "[[1 2]\n",
            " [3 4]\n",
            " [5 6]\n",
            " [7 8]]\n"
          ]
        }
      ]
    },
    {
      "cell_type": "code",
      "source": [
        "#Functions and axis\n",
        "a = np.array([[7,8,9,10,11,12,13],[17,18,19,20,21,22,23]])\n",
        "print(a)\n",
        "print(a.sum())  #mean()\n",
        "print(a.sum(axis=None))"
      ],
      "metadata": {
        "colab": {
          "base_uri": "https://localhost:8080/"
        },
        "id": "wu8h2AYfiBH7",
        "outputId": "b7f04d03-b7d3-440e-9e11-bcc448faedc6"
      },
      "execution_count": null,
      "outputs": [
        {
          "output_type": "stream",
          "name": "stdout",
          "text": [
            "[[ 7  8  9 10 11 12 13]\n",
            " [17 18 19 20 21 22 23]]\n",
            "210\n",
            "210\n"
          ]
        }
      ]
    },
    {
      "cell_type": "code",
      "source": [
        "print(a.sum(axis=0))"
      ],
      "metadata": {
        "colab": {
          "base_uri": "https://localhost:8080/"
        },
        "id": "0MXyelpHi6GU",
        "outputId": "c4e63fc7-7d58-4999-ecb7-2dd95094b1c4"
      },
      "execution_count": null,
      "outputs": [
        {
          "output_type": "stream",
          "name": "stdout",
          "text": [
            "[24 26 28 30 32 34 36]\n"
          ]
        }
      ]
    },
    {
      "cell_type": "code",
      "source": [
        "print(a.sum(axis=1))"
      ],
      "metadata": {
        "colab": {
          "base_uri": "https://localhost:8080/"
        },
        "id": "3wAiGWxNjFq9",
        "outputId": "5d2ae110-5ce5-4c3d-b84d-af7e9d1553e8"
      },
      "execution_count": null,
      "outputs": [
        {
          "output_type": "stream",
          "name": "stdout",
          "text": [
            "[ 70 140]\n"
          ]
        }
      ]
    },
    {
      "cell_type": "code",
      "source": [
        "#Datatypes\n",
        "x = np.array([1,2])\n",
        "print(x.dtype)"
      ],
      "metadata": {
        "colab": {
          "base_uri": "https://localhost:8080/"
        },
        "id": "Pt96A3_5jeFM",
        "outputId": "61211a03-1358-420a-a5ef-d1dcac6cd2e8"
      },
      "execution_count": null,
      "outputs": [
        {
          "output_type": "stream",
          "name": "stdout",
          "text": [
            "int64\n"
          ]
        }
      ]
    },
    {
      "cell_type": "code",
      "source": [
        "#copying of an array\n",
        "a = np.array([1,2,3])\n",
        "b = a\n",
        "print(b)\n",
        "b[0] = 42\n",
        "print(a)"
      ],
      "metadata": {
        "colab": {
          "base_uri": "https://localhost:8080/"
        },
        "id": "Ncs1mrLbj549",
        "outputId": "64182305-9155-4b1a-9b3f-817f5087690d"
      },
      "execution_count": null,
      "outputs": [
        {
          "output_type": "stream",
          "name": "stdout",
          "text": [
            "[1 2 3]\n",
            "[42  2  3]\n"
          ]
        }
      ]
    },
    {
      "cell_type": "code",
      "source": [
        "a = np.array([1,2,3])\n",
        "b = a.copy()\n",
        "\n",
        "b[0] = 42\n",
        "print(b)\n",
        "print(a)"
      ],
      "metadata": {
        "colab": {
          "base_uri": "https://localhost:8080/"
        },
        "id": "vtNziQTAkTqS",
        "outputId": "fe5f5cc6-145a-4667-f089-614ecc7f775c"
      },
      "execution_count": null,
      "outputs": [
        {
          "output_type": "stream",
          "name": "stdout",
          "text": [
            "[42  2  3]\n",
            "[1 2 3]\n"
          ]
        }
      ]
    },
    {
      "cell_type": "markdown",
      "source": [
        "#Generating Arrays"
      ],
      "metadata": {
        "id": "u1L2Qs9oksok"
      }
    },
    {
      "cell_type": "code",
      "source": [
        "#genarrate 2d zeros array\n",
        "a = np.zeros((2,3))\n",
        "print(a)"
      ],
      "metadata": {
        "colab": {
          "base_uri": "https://localhost:8080/"
        },
        "id": "oESKQCLIkrdp",
        "outputId": "be75bfd8-7811-4bed-b7e8-74d4b7205cb2"
      },
      "execution_count": null,
      "outputs": [
        {
          "output_type": "stream",
          "name": "stdout",
          "text": [
            "[[0. 0. 0.]\n",
            " [0. 0. 0.]]\n"
          ]
        }
      ]
    },
    {
      "cell_type": "code",
      "source": [
        "b = np.ones((3,2))\n",
        "print(b)"
      ],
      "metadata": {
        "colab": {
          "base_uri": "https://localhost:8080/"
        },
        "id": "fdPsQCWWlJdC",
        "outputId": "4fe5f719-88ea-4a20-cb34-010ecb563508"
      },
      "execution_count": null,
      "outputs": [
        {
          "output_type": "stream",
          "name": "stdout",
          "text": [
            "[[1. 1.]\n",
            " [1. 1.]\n",
            " [1. 1.]]\n"
          ]
        }
      ]
    },
    {
      "cell_type": "code",
      "source": [
        "#specif value generating\n",
        "c = np.full((3,3),5.0)\n",
        "print(c)"
      ],
      "metadata": {
        "colab": {
          "base_uri": "https://localhost:8080/"
        },
        "id": "6uA1b_vHlUxV",
        "outputId": "6d404bbf-aa87-459f-8705-0049bd0a8c37"
      },
      "execution_count": null,
      "outputs": [
        {
          "output_type": "stream",
          "name": "stdout",
          "text": [
            "[[5. 5. 5.]\n",
            " [5. 5. 5.]\n",
            " [5. 5. 5.]]\n"
          ]
        }
      ]
    },
    {
      "cell_type": "code",
      "source": [
        "d = np.eye(2)\n",
        "print(d)"
      ],
      "metadata": {
        "colab": {
          "base_uri": "https://localhost:8080/"
        },
        "id": "6iZSF5ISl8e9",
        "outputId": "de5e98c2-96c6-4c26-fef2-9e8cc08ce5b0"
      },
      "execution_count": null,
      "outputs": [
        {
          "output_type": "stream",
          "name": "stdout",
          "text": [
            "[[1. 0.]\n",
            " [0. 1.]]\n"
          ]
        }
      ]
    },
    {
      "cell_type": "markdown",
      "source": [
        "#Random number"
      ],
      "metadata": {
        "id": "aLEvdWQImgP2"
      }
    },
    {
      "cell_type": "code",
      "source": [
        "a = np.random.random((3,2)) #uniform 0-1 distridution\n",
        "print(a)"
      ],
      "metadata": {
        "colab": {
          "base_uri": "https://localhost:8080/"
        },
        "id": "CxjqoO99mVIy",
        "outputId": "aa507477-7f45-4d1d-c033-641da4677e32"
      },
      "execution_count": null,
      "outputs": [
        {
          "output_type": "stream",
          "name": "stdout",
          "text": [
            "[[0.09898455 0.1735146 ]\n",
            " [0.08340695 0.06506432]\n",
            " [0.28845802 0.32291363]]\n"
          ]
        }
      ]
    },
    {
      "cell_type": "code",
      "source": [
        "b = np.random.randn(3,2) #normal/gussian disribution\n",
        "print(b)"
      ],
      "metadata": {
        "colab": {
          "base_uri": "https://localhost:8080/"
        },
        "id": "CJ0IWgjam7Hb",
        "outputId": "83aa096e-f1e9-47fb-f00a-f230055a539e"
      },
      "execution_count": null,
      "outputs": [
        {
          "output_type": "stream",
          "name": "stdout",
          "text": [
            "[[ 2.70893177e-01 -1.98603454e+00]\n",
            " [ 2.40135438e-01 -4.49286622e-01]\n",
            " [ 1.27750818e+00  8.30405638e-04]]\n"
          ]
        }
      ]
    },
    {
      "cell_type": "code",
      "source": [
        "d = np.random.randn(10,3)\n",
        "print(d.mean(),d.var(),d.std())"
      ],
      "metadata": {
        "colab": {
          "base_uri": "https://localhost:8080/"
        },
        "id": "iz0b99snndEp",
        "outputId": "055eaafa-89b9-467a-df81-db33914499c0"
      },
      "execution_count": null,
      "outputs": [
        {
          "output_type": "stream",
          "name": "stdout",
          "text": [
            "0.03194616798422389 1.270742517971494 1.1272721578977696\n"
          ]
        }
      ]
    }
  ]
}